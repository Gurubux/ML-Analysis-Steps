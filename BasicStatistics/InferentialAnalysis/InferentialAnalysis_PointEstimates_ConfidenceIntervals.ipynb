{
  "nbformat": 4,
  "nbformat_minor": 0,
  "metadata": {
    "colab": {
      "name": "InferentialAnalysis_PointEstimates_ConfidenceIntervals.ipynb",
      "version": "0.3.2",
      "provenance": []
    },
    "kernelspec": {
      "name": "python3",
      "display_name": "Python 3"
    }
  },
  "cells": [
    {
      "cell_type": "markdown",
      "metadata": {
        "id": "mJjWwUttUuyW",
        "colab_type": "text"
      },
      "source": [
        "## Point Estimates"
      ]
    },
    {
      "cell_type": "code",
      "metadata": {
        "id": "UJhnvgBXUdzM",
        "colab_type": "code",
        "colab": {}
      },
      "source": [
        "import numpy as np\n",
        "import pandas as pd\n",
        "import scipy.stats as stats\n",
        "import matplotlib.pyplot as plt\n",
        "import random\n",
        "import math"
      ],
      "execution_count": 0,
      "outputs": []
    },
    {
      "cell_type": "code",
      "metadata": {
        "id": "AGXDU1FSUw-8",
        "colab_type": "code",
        "colab": {
          "base_uri": "https://localhost:8080/",
          "height": 51
        },
        "outputId": "47808b38-d06c-4a57-a4df-d2020bcaf692"
      },
      "source": [
        "np.random.seed(10)\n",
        "population_ages1 = stats.poisson.rvs(loc=18, mu=35, size=150000)\n",
        "population_ages2 = stats.poisson.rvs(loc=18, mu=10, size=100000)\n",
        "population_ages = np.concatenate((population_ages1, population_ages2))\n",
        "\n",
        "#len(population_ages1)\n",
        "#population_ages2\n",
        "print(len(population_ages))\n",
        "population_ages.mean()\n",
        "np.sort(population_ages)"
      ],
      "execution_count": 12,
      "outputs": [
        {
          "output_type": "stream",
          "text": [
            "250000\n"
          ],
          "name": "stdout"
        },
        {
          "output_type": "execute_result",
          "data": {
            "text/plain": [
              "array([18, 18, 18, ..., 80, 80, 81])"
            ]
          },
          "metadata": {
            "tags": []
          },
          "execution_count": 12
        }
      ]
    },
    {
      "cell_type": "code",
      "metadata": {
        "id": "fXwE7Lr3UyYb",
        "colab_type": "code",
        "colab": {
          "base_uri": "https://localhost:8080/",
          "height": 68
        },
        "outputId": "d8ee86ae-8fdd-4f4e-875f-8f9156975b2f"
      },
      "source": [
        "np.random.seed(6)\n",
        "sample_ages = np.random.choice(a= population_ages,\n",
        "                               size=500)            # Sample 1000 values\n",
        "\n",
        "print(len(sample_ages))\n",
        "print ( sample_ages.mean() )                         # Show sample mean\n",
        "\n",
        "population_ages.mean() - sample_ages.mean()   # Check difference between means"
      ],
      "execution_count": 13,
      "outputs": [
        {
          "output_type": "stream",
          "text": [
            "500\n",
            "42.388\n"
          ],
          "name": "stdout"
        },
        {
          "output_type": "execute_result",
          "data": {
            "text/plain": [
              "0.614372000000003"
            ]
          },
          "metadata": {
            "tags": []
          },
          "execution_count": 13
        }
      ]
    },
    {
      "cell_type": "code",
      "metadata": {
        "id": "kKvrzSh1Uz8C",
        "colab_type": "code",
        "colab": {
          "base_uri": "https://localhost:8080/",
          "height": 357
        },
        "outputId": "6c22f74c-dea3-4c10-9f59-5f2735ac00e0"
      },
      "source": [
        "random.seed(10)\n",
        "population_races = ([\"white\"]*100000) + ([\"black\"]*50000) +\\\n",
        "                   ([\"hispanic\"]*50000) + ([\"asian\"]*25000) +\\\n",
        "                   ([\"other\"]*25000)\n",
        "    \n",
        "demo_sample = random.sample(population_races, 1000)   # Sample 1000 values\n",
        "\n",
        "for race in set(demo_sample):\n",
        "    print( race + \" proportion estimate:\" )\n",
        "    print( demo_sample.count(race)/1000 )\n",
        "for race in set(population_races):\n",
        "    print( race + \" proportion estimate:\" )\n",
        "    print( population_races.count(race)/250000 )"
      ],
      "execution_count": 17,
      "outputs": [
        {
          "output_type": "stream",
          "text": [
            "hispanic proportion estimate:\n",
            "0.192\n",
            "white proportion estimate:\n",
            "0.379\n",
            "black proportion estimate:\n",
            "0.231\n",
            "other proportion estimate:\n",
            "0.099\n",
            "asian proportion estimate:\n",
            "0.099\n",
            "hispanic proportion estimate:\n",
            "0.2\n",
            "white proportion estimate:\n",
            "0.4\n",
            "black proportion estimate:\n",
            "0.2\n",
            "other proportion estimate:\n",
            "0.1\n",
            "asian proportion estimate:\n",
            "0.1\n"
          ],
          "name": "stdout"
        }
      ]
    }
  ]
}
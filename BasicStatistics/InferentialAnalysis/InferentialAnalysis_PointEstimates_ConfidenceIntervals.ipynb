{
  "nbformat": 4,
  "nbformat_minor": 0,
  "metadata": {
    "colab": {
      "name": "InferentialAnalysis_PointEstimates_ConfidenceIntervals.ipynb",
      "version": "0.3.2",
      "provenance": [],
      "collapsed_sections": []
    },
    "kernelspec": {
      "name": "python3",
      "display_name": "Python 3"
    }
  },
  "cells": [
    {
      "cell_type": "markdown",
      "metadata": {
        "id": "mJjWwUttUuyW",
        "colab_type": "text"
      },
      "source": [
        "## Point Estimates"
      ]
    },
    {
      "cell_type": "code",
      "metadata": {
        "id": "UJhnvgBXUdzM",
        "colab_type": "code",
        "colab": {}
      },
      "source": [
        "import numpy as np\n",
        "import pandas as pd\n",
        "import scipy.stats as stats\n",
        "import matplotlib.pyplot as plt\n",
        "import random\n",
        "import math"
      ],
      "execution_count": 0,
      "outputs": []
    },
    {
      "cell_type": "code",
      "metadata": {
        "id": "AGXDU1FSUw-8",
        "colab_type": "code",
        "colab": {
          "base_uri": "https://localhost:8080/",
          "height": 51
        },
        "outputId": "47808b38-d06c-4a57-a4df-d2020bcaf692"
      },
      "source": [
        "np.random.seed(10)\n",
        "population_ages1 = stats.poisson.rvs(loc=18, mu=35, size=150000)\n",
        "population_ages2 = stats.poisson.rvs(loc=18, mu=10, size=100000)\n",
        "population_ages = np.concatenate((population_ages1, population_ages2))\n",
        "\n",
        "#len(population_ages1)\n",
        "#population_ages2\n",
        "print(len(population_ages))\n",
        "population_ages.mean()\n",
        "np.sort(population_ages)"
      ],
      "execution_count": 12,
      "outputs": [
        {
          "output_type": "stream",
          "text": [
            "250000\n"
          ],
          "name": "stdout"
        },
        {
          "output_type": "execute_result",
          "data": {
            "text/plain": [
              "array([18, 18, 18, ..., 80, 80, 81])"
            ]
          },
          "metadata": {
            "tags": []
          },
          "execution_count": 12
        }
      ]
    },
    {
      "cell_type": "code",
      "metadata": {
        "id": "fXwE7Lr3UyYb",
        "colab_type": "code",
        "colab": {
          "base_uri": "https://localhost:8080/",
          "height": 68
        },
        "outputId": "d8ee86ae-8fdd-4f4e-875f-8f9156975b2f"
      },
      "source": [
        "np.random.seed(6)\n",
        "sample_ages = np.random.choice(a= population_ages,\n",
        "                               size=500)            # Sample 1000 values\n",
        "\n",
        "print(len(sample_ages))\n",
        "print ( sample_ages.mean() )                         # Show sample mean\n",
        "\n",
        "population_ages.mean() - sample_ages.mean()   # Check difference between means"
      ],
      "execution_count": 13,
      "outputs": [
        {
          "output_type": "stream",
          "text": [
            "500\n",
            "42.388\n"
          ],
          "name": "stdout"
        },
        {
          "output_type": "execute_result",
          "data": {
            "text/plain": [
              "0.614372000000003"
            ]
          },
          "metadata": {
            "tags": []
          },
          "execution_count": 13
        }
      ]
    },
    {
      "cell_type": "code",
      "metadata": {
        "id": "kKvrzSh1Uz8C",
        "colab_type": "code",
        "colab": {
          "base_uri": "https://localhost:8080/",
          "height": 357
        },
        "outputId": "6c22f74c-dea3-4c10-9f59-5f2735ac00e0"
      },
      "source": [
        "random.seed(10)\n",
        "population_races = ([\"white\"]*100000) + ([\"black\"]*50000) +\\\n",
        "                   ([\"hispanic\"]*50000) + ([\"asian\"]*25000) +\\\n",
        "                   ([\"other\"]*25000)\n",
        "    \n",
        "demo_sample = random.sample(population_races, 1000)   # Sample 1000 values\n",
        "\n",
        "for race in set(demo_sample):\n",
        "    print( race + \" proportion estimate:\" )\n",
        "    print( demo_sample.count(race)/1000 )\n",
        "for race in set(population_races):\n",
        "    print( race + \" proportion estimate:\" )\n",
        "    print( population_races.count(race)/250000 )"
      ],
      "execution_count": 17,
      "outputs": [
        {
          "output_type": "stream",
          "text": [
            "hispanic proportion estimate:\n",
            "0.192\n",
            "white proportion estimate:\n",
            "0.379\n",
            "black proportion estimate:\n",
            "0.231\n",
            "other proportion estimate:\n",
            "0.099\n",
            "asian proportion estimate:\n",
            "0.099\n",
            "hispanic proportion estimate:\n",
            "0.2\n",
            "white proportion estimate:\n",
            "0.4\n",
            "black proportion estimate:\n",
            "0.2\n",
            "other proportion estimate:\n",
            "0.1\n",
            "asian proportion estimate:\n",
            "0.1\n"
          ],
          "name": "stdout"
        }
      ]
    },
    {
      "cell_type": "markdown",
      "metadata": {
        "id": "fTqBD6FDwqwG",
        "colab_type": "text"
      },
      "source": [
        "## Sampling Distributions and The Central Limit Theorem"
      ]
    },
    {
      "cell_type": "code",
      "metadata": {
        "id": "lF-SfNIwwr38",
        "colab_type": "code",
        "colab": {
          "base_uri": "https://localhost:8080/",
          "height": 570
        },
        "outputId": "26b80c1f-6c89-45b5-bba6-c89019110122"
      },
      "source": [
        "pd.DataFrame(population_ages).hist(bins=58,\n",
        "                                  range=(17.5,75.5),\n",
        "                                  figsize=(9,9))\n",
        "\n",
        "print( stats.skew(population_ages) )"
      ],
      "execution_count": 18,
      "outputs": [
        {
          "output_type": "stream",
          "text": [
            "-0.12008483603917186\n"
          ],
          "name": "stdout"
        },
        {
          "output_type": "display_data",
          "data": {
            "image/png": "[encoded data removed]",
            "text/plain": [
              "<Figure size 648x648 with 1 Axes>"
            ]
          },
          "metadata": {
            "tags": []
          }
        }
      ]
    },
    {
      "cell_type": "code",
      "metadata": {
        "id": "2xRKfTEO1KE_",
        "colab_type": "code",
        "colab": {
          "base_uri": "https://localhost:8080/",
          "height": 570
        },
        "outputId": "53b1dcd2-3d5a-401b-f80e-e7ee4062cb59"
      },
      "source": [
        "pd.DataFrame(sample_ages).hist(bins=58,\n",
        "                                  range=(17.5,75.5),\n",
        "                                  figsize=(9,9))\n",
        "\n",
        "print( stats.skew(sample_ages) )"
      ],
      "execution_count": 19,
      "outputs": [
        {
          "output_type": "stream",
          "text": [
            "-0.056225282585406065\n"
          ],
          "name": "stdout"
        },
        {
          "output_type": "display_data",
          "data": {
            "image/png": "[encoded data removed]",
            "text/plain": [
              "<Figure size 648x648 with 1 Axes>"
            ]
          },
          "metadata": {
            "tags": []
          }
        }
      ]
    },
    {
      "cell_type": "code",
      "metadata": {
        "id": "9NsurOa71M9l",
        "colab_type": "code",
        "colab": {
          "base_uri": "https://localhost:8080/",
          "height": 558
        },
        "outputId": "65b08532-bc88-48bb-a651-7262a414a7b2"
      },
      "source": [
        "np.random.seed(10)\n",
        "\n",
        "point_estimates = []         # Make empty list to hold point estimates\n",
        "\n",
        "for x in range(200):         # Generate 200 samples\n",
        "    sample = np.random.choice(a= population_ages, size=500)\n",
        "    point_estimates.append( sample.mean() )\n",
        "    \n",
        "pd.DataFrame(point_estimates).plot(kind=\"density\",  # Plot sample mean density\n",
        "                                   figsize=(9,9),\n",
        "                                   xlim=(41,45))   "
      ],
      "execution_count": 23,
      "outputs": [
        {
          "output_type": "execute_result",
          "data": {
            "text/plain": [
              "<matplotlib.axes._subplots.AxesSubplot at 0x7fdc73ad9c88>"
            ]
          },
          "metadata": {
            "tags": []
          },
          "execution_count": 23
        },
        {
          "output_type": "display_data",
          "data": {
            "image/png": "[encoded data removed]",
            "text/plain": [
              "<Figure size 648x648 with 1 Axes>"
            ]
          },
          "metadata": {
            "tags": []
          }
        }
      ]
    },
    {
      "cell_type": "code",
      "metadata": {
        "id": "vavl-Yat1W5m",
        "colab_type": "code",
        "colab": {
          "base_uri": "https://localhost:8080/",
          "height": 34
        },
        "outputId": "a7f61c75-7f65-440f-8eab-5ccbc84c88c0"
      },
      "source": [
        "population_ages.mean() - np.array(point_estimates).mean()"
      ],
      "execution_count": 24,
      "outputs": [
        {
          "output_type": "execute_result",
          "data": {
            "text/plain": [
              "-0.08440799999999626"
            ]
          },
          "metadata": {
            "tags": []
          },
          "execution_count": 24
        }
      ]
    },
    {
      "cell_type": "markdown",
      "metadata": {
        "id": "v8lmd8Gb1ake",
        "colab_type": "text"
      },
      "source": [
        "## Confidence Interval"
      ]
    },
    {
      "cell_type": "code",
      "metadata": {
        "id": "08GWCecP1c09",
        "colab_type": "code",
        "colab": {
          "base_uri": "https://localhost:8080/",
          "height": 85
        },
        "outputId": "b4d2e63d-bf32-405d-afbd-f62ff462f8ac"
      },
      "source": [
        "np.random.seed(10)\n",
        "\n",
        "sample_size = 1000\n",
        "sample = np.random.choice(a= population_ages, size = sample_size)\n",
        "sample_mean = sample.mean()\n",
        "\n",
        "z_critical = stats.norm.ppf(q = 0.975)  # Get the z-critical value*\n",
        "\n",
        "print(\"z-critical value:\")              # Check the z-critical value\n",
        "print(z_critical)                        \n",
        "\n",
        "pop_stdev = population_ages.std()  # Get the population standard deviation\n",
        "\n",
        "margin_of_error = z_critical * (pop_stdev/math.sqrt(sample_size))\n",
        "\n",
        "confidence_interval = (sample_mean - margin_of_error,\n",
        "                       sample_mean + margin_of_error)  \n",
        "\n",
        "print(\"Confidence interval:\")\n",
        "print(confidence_interval)"
      ],
      "execution_count": 25,
      "outputs": [
        {
          "output_type": "stream",
          "text": [
            "z-critical value:\n",
            "1.959963984540054\n",
            "Confidence interval:\n",
            "(41.70306406882683, 43.34293593117317)\n"
          ],
          "name": "stdout"
        }
      ]
    },
    {
      "cell_type": "code",
      "metadata": {
        "id": "UHFGjMwN1fge",
        "colab_type": "code",
        "colab": {}
      },
      "source": [
        "np.random.seed(12)\n",
        "\n",
        "sample_size = 1000\n",
        "\n",
        "intervals = []\n",
        "sample_means = []\n",
        "\n",
        "for sample in range(25):\n",
        "    sample = np.random.choice(a= population_ages, size = sample_size)\n",
        "    sample_mean = sample.mean()\n",
        "    sample_means.append(sample_mean)\n",
        "\n",
        "    z_critical = stats.norm.ppf(q = 0.975)  # Get the z-critical value*         \n",
        "\n",
        "    pop_stdev = population_ages.std()  # Get the population standard deviation\n",
        "\n",
        "    stats.norm.ppf(q = 0.025)\n",
        "\n",
        "    margin_of_error = z_critical * (pop_stdev/math.sqrt(sample_size))\n",
        "\n",
        "    confidence_interval = (sample_mean - margin_of_error,\n",
        "                           sample_mean + margin_of_error)  \n",
        "    \n",
        "    intervals.append(confidence_interval)"
      ],
      "execution_count": 0,
      "outputs": []
    },
    {
      "cell_type": "code",
      "metadata": {
        "id": "XbD_H3Ra1mY-",
        "colab_type": "code",
        "colab": {
          "base_uri": "https://localhost:8080/",
          "height": 558
        },
        "outputId": "de557d17-0411-41ab-f909-411dc8392446"
      },
      "source": [
        "plt.figure(figsize=(9,9))\n",
        "\n",
        "plt.errorbar(x=np.arange(0.1, 25, 1), \n",
        "             y=sample_means, \n",
        "             yerr=[(top-bot)/2 for top,bot in intervals],\n",
        "             fmt='o')\n",
        "\n",
        "plt.hlines(xmin=0, xmax=25,\n",
        "           y=43.0023, \n",
        "           linewidth=2.0,\n",
        "           color=\"red\")"
      ],
      "execution_count": 28,
      "outputs": [
        {
          "output_type": "execute_result",
          "data": {
            "text/plain": [
              "<matplotlib.collections.LineCollection at 0x7fdc73c9fda0>"
            ]
          },
          "metadata": {
            "tags": []
          },
          "execution_count": 28
        },
        {
          "output_type": "display_data",
          "data": {
            "image/png": "[encoded data removed]",
            "text/plain": [
              "<Figure size 648x648 with 1 Axes>"
            ]
          },
          "metadata": {
            "tags": []
          }
        }
      ]
    },
    {
      "cell_type": "code",
      "metadata": {
        "id": "Gibvkjxm1jyu",
        "colab_type": "code",
        "colab": {
          "base_uri": "https://localhost:8080/",
          "height": 85
        },
        "outputId": "69719f07-4b65-4f98-ec9a-b2b457718287"
      },
      "source": [
        "np.random.seed(10)\n",
        "\n",
        "sample_size = 25\n",
        "sample = np.random.choice(a= population_ages, size = sample_size)\n",
        "sample_mean = sample.mean()\n",
        "\n",
        "t_critical = stats.t.ppf(q = 0.975, df=24)  # Get the t-critical value*\n",
        "\n",
        "print(\"t-critical value:\")                  # Check the t-critical value\n",
        "print(t_critical)                        \n",
        "\n",
        "sample_stdev = sample.std(ddof=1)    # Get the sample standard deviation\n",
        "sigma = sample_stdev/math.sqrt(sample_size)  # Standard deviation estimate\n",
        "margin_of_error = t_critical * sigma\n",
        "\n",
        "confidence_interval = (sample_mean - margin_of_error,\n",
        "                       sample_mean + margin_of_error)  \n",
        "\n",
        "print(\"Confidence interval:\")\n",
        "print(confidence_interval)"
      ],
      "execution_count": 29,
      "outputs": [
        {
          "output_type": "stream",
          "text": [
            "t-critical value:\n",
            "2.0638985616280205\n",
            "Confidence interval:\n",
            "(37.65147508161371, 48.108524918386294)\n"
          ],
          "name": "stdout"
        }
      ]
    },
    {
      "cell_type": "code",
      "metadata": {
        "id": "1Ag49h1B1p0O",
        "colab_type": "code",
        "colab": {
          "base_uri": "https://localhost:8080/",
          "height": 34
        },
        "outputId": "695ef38b-afd6-4000-83da-8d2b1cb275be"
      },
      "source": [
        "# Check the difference between critical values with a sample size of 1000\n",
        "             \n",
        "stats.t.ppf(q=0.975, df= 999) - stats.norm.ppf(0.975)  "
      ],
      "execution_count": 30,
      "outputs": [
        {
          "output_type": "execute_result",
          "data": {
            "text/plain": [
              "0.0023774765933946007"
            ]
          },
          "metadata": {
            "tags": []
          },
          "execution_count": 30
        }
      ]
    },
    {
      "cell_type": "code",
      "metadata": {
        "id": "OLGTF4Uo1scF",
        "colab_type": "code",
        "colab": {
          "base_uri": "https://localhost:8080/",
          "height": 34
        },
        "outputId": "a36d9b7f-62c5-4d43-8029-eb22060e5b44"
      },
      "source": [
        "stats.t.interval(alpha = 0.95,              # Confidence level\n",
        "                 df= 24,                    # Degrees of freedom\n",
        "                 loc = sample_mean,         # Sample mean\n",
        "                 scale = sigma)             # Standard deviation estimate"
      ],
      "execution_count": 31,
      "outputs": [
        {
          "output_type": "execute_result",
          "data": {
            "text/plain": [
              "(37.65147508161371, 48.108524918386294)"
            ]
          },
          "metadata": {
            "tags": []
          },
          "execution_count": 31
        }
      ]
    },
    {
      "cell_type": "code",
      "metadata": {
        "id": "3OiRg_Ea1twV",
        "colab_type": "code",
        "colab": {
          "base_uri": "https://localhost:8080/",
          "height": 34
        },
        "outputId": "8e43d50b-87a9-4d4e-ecc4-8126fe1b9d71"
      },
      "source": [
        "z_critical = stats.norm.ppf(0.975)      # Record z-critical value\n",
        "\n",
        "p = 0.192                               # Point estimate of proportion\n",
        "\n",
        "n = 1000                                # Sample size\n",
        "\n",
        "margin_of_error = z_critical * math.sqrt((p*(1-p))/n)\n",
        "\n",
        "confidence_interval = (p - margin_of_error,  # Calculate the the interval\n",
        "                       p + margin_of_error) \n",
        "\n",
        "confidence_interval"
      ],
      "execution_count": 32,
      "outputs": [
        {
          "output_type": "execute_result",
          "data": {
            "text/plain": [
              "(0.16758794241348748, 0.21641205758651252)"
            ]
          },
          "metadata": {
            "tags": []
          },
          "execution_count": 32
        }
      ]
    },
    {
      "cell_type": "code",
      "metadata": {
        "id": "bVUH6qhq1vXt",
        "colab_type": "code",
        "colab": {
          "base_uri": "https://localhost:8080/",
          "height": 34
        },
        "outputId": "8d1d4006-8eb1-49dd-e869-0b3546e068e9"
      },
      "source": [
        "stats.norm.interval(alpha = 0.95,    # Confidence level             \n",
        "                   loc =  0.192,     # Point estimate of proportion\n",
        "                   scale = math.sqrt((p*(1-p))/n))  # Scaling factor"
      ],
      "execution_count": 33,
      "outputs": [
        {
          "output_type": "execute_result",
          "data": {
            "text/plain": [
              "(0.16758794241348748, 0.21641205758651252)"
            ]
          },
          "metadata": {
            "tags": []
          },
          "execution_count": 33
        }
      ]
    }
  ]
}
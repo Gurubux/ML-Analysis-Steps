{
  "metadata": {
    "language_info": {
      "nbconvert_exporter": "python",
      "codemirror_mode": {
        "name": "ipython",
        "version": 3
      },
      "mimetype": "text/x-python",
      "file_extension": ".py",
      "name": "python",
      "pygments_lexer": "ipython3",
      "version": "3.5.2"
    },
    "kernelspec": {
      "name": "python3",
      "display_name": "Python 3",
      "language": "python"
    }
  },
  "nbformat_minor": 0,
  "nbformat": 4,
  "cells": [
    {
      "cell_type": "code",
      "metadata": {
        "collapsed": false
      },
      "execution_count": null,
      "source": [
        "%matplotlib inline"
      ],
      "outputs": []
    },
    {
      "cell_type": "markdown",
      "metadata": {},
      "source": [
        "\nAnnotate on hover\n=================\n\nWhen ``hover`` is set to ``True``, annotations are displayed when the mouse\nhovers over the artist, without the need for clicking.\n\n"
      ]
    },
    {
      "cell_type": "code",
      "metadata": {
        "collapsed": false
      },
      "execution_count": null,
      "source": [
        "import matplotlib.pyplot as plt\nimport numpy as np\nimport mplcursors\nnp.random.seed(42)\n\nfig, ax = plt.subplots()\nax.scatter(*np.random.random((2, 26)))\nax.set_title(\"Mouse over a point\")\n\nmplcursors.cursor(hover=True)\n\nplt.show()"
      ],
      "outputs": []
    }
  ]
}
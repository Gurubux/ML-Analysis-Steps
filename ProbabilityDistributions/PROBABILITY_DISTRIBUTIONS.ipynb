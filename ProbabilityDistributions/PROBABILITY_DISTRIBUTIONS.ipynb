{
  "nbformat": 4,
  "nbformat_minor": 0,
  "metadata": {
    "colab": {
      "name": "PROBABILITY_DISTRIBUTIONS.ipynb",
      "version": "0.3.2",
      "provenance": [],
      "collapsed_sections": []
    },
    "kernelspec": {
      "name": "python3",
      "display_name": "Python 3"
    }
  },
  "cells": [
    {
      "cell_type": "code",
      "metadata": {
        "id": "0Iu-FivV5MH-",
        "colab_type": "code",
        "colab": {}
      },
      "source": [
        "import numpy as np\n",
        "import pandas as pd\n",
        "import matplotlib.pyplot as plt\n",
        "import scipy.stats  as stats"
      ],
      "execution_count": 0,
      "outputs": []
    },
    {
      "cell_type": "markdown",
      "metadata": {
        "id": "usOlOW0--dZA",
        "colab_type": "text"
      },
      "source": [
        "## THE UNIFORM DISTRIBUTION"
      ]
    },
    {
      "cell_type": "code",
      "metadata": {
        "id": "FNC7v1kg-WFv",
        "colab_type": "code",
        "colab": {
          "base_uri": "https://localhost:8080/",
          "height": 558
        },
        "outputId": "89cf2ff4-07bd-410d-a1c2-2d3b750374e5"
      },
      "source": [
        "uniform_data = stats.uniform.rvs(size=100000,  # Generate 100000 numbers\n",
        "                                 loc = 0,      # From 0 \n",
        "                                 scale=10)     # To 10\n",
        "# Plot the distribution - UNIFORM\n",
        "pd.DataFrame(uniform_data).plot(kind=\"density\", figsize=(9,9), xlim=(-1,11))\n",
        "\n",
        "#The area under a probability density curve is always equal to 1.\n",
        "#print(stats.distributions.rv_continuous.rvs(uniform_data))\n",
        "#generates random numbers from the specified distribution. The arguments to rvs() will vary depending on the type of distribution you're working with; in the case of the uniform distribution, we have to specify the starting and ending points and the size (number of random points to generate.).\n",
        "\n"
      ],
      "execution_count": 17,
      "outputs": [
        {
          "output_type": "execute_result",
          "data": {
            "text/plain": [
              "<matplotlib.axes._subplots.AxesSubplot at 0x7f5c8257ffd0>"
            ]
          },
          "metadata": {
            "tags": []
          },
          "execution_count": 17
        },
        {
          "output_type": "display_data",
          "data": {
            "image/png": "[encoded data removed]",
            "text/plain": [
              "<Figure size 648x648 with 1 Axes>"
            ]
          },
          "metadata": {
            "tags": []
          }
        }
      ]
    },
    {
      "cell_type": "code",
      "metadata": {
        "id": "JhcmBSdo7npY",
        "colab_type": "code",
        "colab": {
          "base_uri": "https://localhost:8080/",
          "height": 34
        },
        "outputId": "41cf0787-eb0e-422c-9cdd-9fa8d4c1d161"
      },
      "source": [
        "# cumulative distribution function\n",
        "#stats.distributions.cdf()\n",
        "# is used to determine the probability that an observation drawn from a distribution falls below a specified value\n",
        "# In essence, cdf() gives you the area under the distribution's density curve to the left of a certain value on the x axis.\n",
        "# For example, in the uniform distribution above, there is a 25% chance that an observation will be in the range 0 to 2.5 and a 75% chance it will fall in the range 2.5 to 10. We can confirm this with cdf():\n",
        "stats.uniform.cdf(x=2.5,         # Cutoff value (quantile) to check\n",
        "                  loc=0,         # Distribution start\n",
        "                  scale=10)      # Distribution end\n",
        "#>>> 0.25"
      ],
      "execution_count": 18,
      "outputs": [
        {
          "output_type": "execute_result",
          "data": {
            "text/plain": [
              "0.25"
            ]
          },
          "metadata": {
            "tags": []
          },
          "execution_count": 18
        }
      ]
    },
    {
      "cell_type": "code",
      "metadata": {
        "id": "D2c5OGvD7qUO",
        "colab_type": "code",
        "colab": {
          "base_uri": "https://localhost:8080/",
          "height": 34
        },
        "outputId": "714a52fb-c506-4aed-9901-df9ab686acad"
      },
      "source": [
        "#Percent Point Function \n",
        "#stats.distributions.ppf()\n",
        "#is the inverse of cdf(): it returns the x axis cutoff value (quantile) associated with a given probability. For instance, if we want to know the cutoff value for which we have a 40% chance of drawing an observation below that value, we can use ppf():\n",
        "stats.uniform.ppf(q=0.4,         # Probability cutoff\n",
        "                  loc=0,         # Distribution start\n",
        "                  scale=10)      # Distribution end\n",
        "#>>> 4.0     "
      ],
      "execution_count": 19,
      "outputs": [
        {
          "output_type": "execute_result",
          "data": {
            "text/plain": [
              "4.0"
            ]
          },
          "metadata": {
            "tags": []
          },
          "execution_count": 19
        }
      ]
    },
    {
      "cell_type": "code",
      "metadata": {
        "id": "3Uxo4UBX-Xs3",
        "colab_type": "code",
        "colab": {
          "base_uri": "https://localhost:8080/",
          "height": 187
        },
        "outputId": "93c52808-1a69-42a1-91b0-7227d978b397"
      },
      "source": [
        "#Probability density function\n",
        "#stats.distributions.pdf() \n",
        "#gives you the probability density (height of the distribution) at a given x value. Since the uniform distribution is flat, all x values within its range will have the same probability density and x values outside the range have a probability density of 0:\n",
        "for x in range(-1,12,3):\n",
        "    print(\"Density at x value \" + str(x))\n",
        "    print( stats.uniform.pdf(x, loc=0, scale=10) ) "
      ],
      "execution_count": 20,
      "outputs": [
        {
          "output_type": "stream",
          "text": [
            "Density at x value -1\n",
            "0.0\n",
            "Density at x value 2\n",
            "0.1\n",
            "Density at x value 5\n",
            "0.1\n",
            "Density at x value 8\n",
            "0.1\n",
            "Density at x value 11\n",
            "0.0\n"
          ],
          "name": "stdout"
        }
      ]
    },
    {
      "cell_type": "markdown",
      "metadata": {
        "id": "H2D7Joc1-oQ8",
        "colab_type": "text"
      },
      "source": [
        "## GENERATING RANDOM NUMBERS AND SETTING THE SEED"
      ]
    },
    {
      "cell_type": "code",
      "metadata": {
        "id": "YOifr9Ey-pwV",
        "colab_type": "code",
        "colab": {}
      },
      "source": [
        "import random"
      ],
      "execution_count": 0,
      "outputs": []
    },
    {
      "cell_type": "code",
      "metadata": {
        "id": "DIbbVF9U-zDU",
        "colab_type": "code",
        "colab": {
          "base_uri": "https://localhost:8080/",
          "height": 102
        },
        "outputId": "7f37962e-dfcc-44fd-b464-943fe6d22dfc"
      },
      "source": [
        "print(random.randint(0,10))    # Get a random integer in the specified range\n",
        "\n",
        "print(random.choice([2,4,6,9])) # Get a random element from a sequence\n",
        "\n",
        "print(random.random())          # Get a real number between 0 and 1 \n",
        "\n",
        "random.seed(12)  # Set the seed to an arbitrary value\n",
        "print([random.uniform(0,10) for x in range(4)])\n",
        "random.seed(12)  # Set the seed to the same value\n",
        "print([random.uniform(0,10) for x in range(4)])"
      ],
      "execution_count": 25,
      "outputs": [
        {
          "output_type": "stream",
          "text": [
            "6\n",
            "9\n",
            "0.9719241638163123\n",
            "[4.7457067868854805, 6.574725026572553, 6.664104711248381, 1.4260035292536777]\n",
            "[4.7457067868854805, 6.574725026572553, 6.664104711248381, 1.4260035292536777]\n"
          ],
          "name": "stdout"
        }
      ]
    },
    {
      "cell_type": "code",
      "metadata": {
        "id": "a8SjRNVi__5l",
        "colab_type": "code",
        "colab": {}
      },
      "source": [
        ""
      ],
      "execution_count": 0,
      "outputs": []
    },
    {
      "cell_type": "markdown",
      "metadata": {
        "id": "J59dzm54AQOk",
        "colab_type": "text"
      },
      "source": [
        "## THE NORMAL or GAUSSIAN DISTRIBUTION"
      ]
    },
    {
      "cell_type": "code",
      "metadata": {
        "id": "bQ3e5rbOAUN_",
        "colab_type": "code",
        "colab": {
          "base_uri": "https://localhost:8080/",
          "height": 34
        },
        "outputId": "8be4e3b9-aecf-4b87-f085-b97ac0ca021b"
      },
      "source": [
        "prob_under_minus1 = stats.norm.cdf(x= -1,  \n",
        "                                loc = 0,               \n",
        "                                scale= 1)     \n",
        "\n",
        "prob_over_1 = 1 - stats.norm.cdf(x= 1,  \n",
        "                                loc = 0,               \n",
        "                                scale= 1) \n",
        "\n",
        "between_prob = 1-(prob_under_minus1+prob_over_1)\n",
        "\n",
        "print(prob_under_minus1, prob_over_1, between_prob)\n",
        "#The output shows that roughly 16% of the data generated by a normal distribution with mean 0 and standard deviation 1 is below -1, 16% is above 1 and 68% lies between -1 and 1, which agrees with the 68, 95, 99.7 rule."
      ],
      "execution_count": 26,
      "outputs": [
        {
          "output_type": "stream",
          "text": [
            "0.15865525393145707 0.15865525393145707 0.6826894921370859\n"
          ],
          "name": "stdout"
        }
      ]
    },
    {
      "cell_type": "code",
      "metadata": {
        "id": "Vp0xVbCVAqqs",
        "colab_type": "code",
        "colab": {
          "base_uri": "https://localhost:8080/",
          "height": 558
        },
        "outputId": "862ebe88-c619-4024-eec7-0b4a2ae7908c"
      },
      "source": [
        "# Plot normal distribution areas*\n",
        "\n",
        "plt.rcParams[\"figure.figsize\"] = (9,9)\n",
        "                                  \n",
        "plt.fill_between(x=np.arange(-4,-1,0.01), \n",
        "                 y1= stats.norm.pdf(np.arange(-4,-1,0.01)) ,\n",
        "                 facecolor='red',\n",
        "                 alpha=0.35)\n",
        "\n",
        "plt.fill_between(x=np.arange(1,4,0.01), \n",
        "                 y1= stats.norm.pdf(np.arange(1,4,0.01)) ,\n",
        "                 facecolor='red',\n",
        "                 alpha=0.35)\n",
        "\n",
        "plt.fill_between(x=np.arange(-1,1,0.01), \n",
        "                 y1= stats.norm.pdf(np.arange(-1,1,0.01)) ,\n",
        "                 facecolor='blue',\n",
        "                 alpha=0.35)\n",
        "\n",
        "plt.text(x=-1.8, y=0.03, s= round(prob_under_minus1,3))\n",
        "plt.text(x=-0.2, y=0.1, s= round(between_prob,3))\n",
        "plt.text(x=1.4, y=0.03, s= round(prob_over_1,3))"
      ],
      "execution_count": 27,
      "outputs": [
        {
          "output_type": "execute_result",
          "data": {
            "text/plain": [
              "Text(1.4, 0.03, '0.159')"
            ]
          },
          "metadata": {
            "tags": []
          },
          "execution_count": 27
        },
        {
          "output_type": "display_data",
          "data": {
            "image/png": "[encoded data removed]",
            "text/plain": [
              "<Figure size 648x648 with 1 Axes>"
            ]
          },
          "metadata": {
            "tags": []
          }
        }
      ]
    },
    {
      "cell_type": "code",
      "metadata": {
        "id": "Wh-PS_sbBc7s",
        "colab_type": "code",
        "colab": {
          "base_uri": "https://localhost:8080/",
          "height": 51
        },
        "outputId": "5e26a292-b689-45ae-f41a-8e15a48ec370"
      },
      "source": [
        "#Finding quantiles of the normal distribution is a common task when performing statistical tests. You can check normal distribution quantiles with stats.norm.ppf():\n",
        "\n",
        "print( stats.norm.ppf(q=0.025) ) # Find the quantile for the 2.5% cutoff\n",
        "\n",
        "print( stats.norm.ppf(q=0.975) ) # Find the quantile for the 97.5% cutoff\n",
        "\n",
        "#The quantile output above confirms that roughly 5% of the data lies more than 2 standard deviations from the mean.\n",
        "# *Note: a mean of 0 and standard deviation of 1 are default values for the normal distribution."
      ],
      "execution_count": 28,
      "outputs": [
        {
          "output_type": "stream",
          "text": [
            "-1.9599639845400545\n",
            "1.959963984540054\n"
          ],
          "name": "stdout"
        }
      ]
    },
    {
      "cell_type": "markdown",
      "metadata": {
        "id": "8-NvSRBdCg-R",
        "colab_type": "text"
      },
      "source": [
        "## BINOMIAL DISTRIBUTIOn"
      ]
    },
    {
      "cell_type": "code",
      "metadata": {
        "id": "SLS1HDFBCjfG",
        "colab_type": "code",
        "colab": {
          "base_uri": "https://localhost:8080/",
          "height": 655
        },
        "outputId": "bc7e5667-32a8-4592-bbf4-22ec73fe6aaf"
      },
      "source": [
        "fair_coin_flips = stats.binom.rvs(n=10,        # Number of flips per trial\n",
        "                                  p=0.5,       # Success probability\n",
        "                                  size=10000)  # Number of trials\n",
        "print(fair_coin_flips)\n",
        "print( pd.crosstab(index=\"counts\", columns= fair_coin_flips))\n",
        "\n",
        "pd.DataFrame(fair_coin_flips).hist(range=(-0.5,10.5), bins=11)"
      ],
      "execution_count": 34,
      "outputs": [
        {
          "output_type": "stream",
          "text": [
            "[5 4 7 ... 7 2 8]\n",
            "col_0   0   1    2     3     4     5     6     7    8   9   10\n",
            "row_0                                                         \n",
            "counts   9  91  430  1148  2072  2418  2084  1214  434  95   5\n"
          ],
          "name": "stdout"
        },
        {
          "output_type": "execute_result",
          "data": {
            "text/plain": [
              "array([[<matplotlib.axes._subplots.AxesSubplot object at 0x7f5c82249a90>]],\n",
              "      dtype=object)"
            ]
          },
          "metadata": {
            "tags": []
          },
          "execution_count": 34
        },
        {
          "output_type": "display_data",
          "data": {
            "image/png": "[encoded data removed]",
            "text/plain": [
              "<Figure size 648x648 with 1 Axes>"
            ]
          },
          "metadata": {
            "tags": []
          }
        }
      ]
    },
    {
      "cell_type": "code",
      "metadata": {
        "id": "i6fBTqdvFRiT",
        "colab_type": "code",
        "colab": {
          "base_uri": "https://localhost:8080/",
          "height": 638
        },
        "outputId": "2f55363b-b463-4c8e-cec1-c64dcadcd390"
      },
      "source": [
        "biased_coin_flips = stats.binom.rvs(n=10,      # Number of flips per trial\n",
        "                                  p=0.8,       # Success probability 0.8\n",
        "                                  size=10000)  # Number of trials\n",
        "# Print table of counts\n",
        "print( pd.crosstab(index=\"counts\", columns= biased_coin_flips))\n",
        "# Plot histogram\n",
        "pd.DataFrame(biased_coin_flips).hist(range=(-0.5,10.5), bins=11)"
      ],
      "execution_count": 35,
      "outputs": [
        {
          "output_type": "stream",
          "text": [
            "col_0   3   4    5    6     7     8     9     10\n",
            "row_0                                           \n",
            "counts  12  64  288  883  2005  2998  2656  1094\n"
          ],
          "name": "stdout"
        },
        {
          "output_type": "execute_result",
          "data": {
            "text/plain": [
              "array([[<matplotlib.axes._subplots.AxesSubplot object at 0x7f5c82689b00>]],\n",
              "      dtype=object)"
            ]
          },
          "metadata": {
            "tags": []
          },
          "execution_count": 35
        },
        {
          "output_type": "display_data",
          "data": {
            "image/png": "[encoded data removed]",
            "text/plain": [
              "<Figure size 648x648 with 1 Axes>"
            ]
          },
          "metadata": {
            "tags": []
          }
        }
      ]
    },
    {
      "cell_type": "code",
      "metadata": {
        "id": "4PNlJwoFFUxT",
        "colab_type": "code",
        "colab": {
          "base_uri": "https://localhost:8080/",
          "height": 51
        },
        "outputId": "403f71fb-b10a-4478-d1f7-48760857e56a"
      },
      "source": [
        "print(stats.binom.cdf(k=5,        # Probability of k = 5 successes or less\n",
        "                n=10,       # With 10 flips\n",
        "                p=0.8))     # And success probability 0.8\n",
        "#>>>0.032793497599999964\n",
        "\n",
        "1 - stats.binom.cdf(k=8,        # Probability of k = 9 successes or more\n",
        "                    n=10,       # With 10 flips\n",
        "                    p=0.8)      # And success probability 0.8\n",
        "#>>>0.37580963840000003"
      ],
      "execution_count": 37,
      "outputs": [
        {
          "output_type": "stream",
          "text": [
            "0.032793497599999964\n"
          ],
          "name": "stdout"
        },
        {
          "output_type": "execute_result",
          "data": {
            "text/plain": [
              "0.37580963840000003"
            ]
          },
          "metadata": {
            "tags": []
          },
          "execution_count": 37
        }
      ]
    },
    {
      "cell_type": "code",
      "metadata": {
        "id": "jdpQ0-AXFcWK",
        "colab_type": "code",
        "colab": {
          "base_uri": "https://localhost:8080/",
          "height": 51
        },
        "outputId": "9d051925-ada6-4799-fa7a-fb5c59c9a715"
      },
      "source": [
        "print(stats.binom.pmf(k=5,        # Probability of k = 5 successes\n",
        "                n=10,       # With 10 flips\n",
        "                p=0.5) )     # And success probability 0.5\n",
        "#>>>0.24609375000000025\n",
        "\n",
        "stats.binom.pmf(k=8,        # Probability of k = 8 successes\n",
        "                n=10,       # With 10 flips\n",
        "                p=0.8)      # And success probability 0.8\n",
        "#>>>0.30198988799999998   "
      ],
      "execution_count": 38,
      "outputs": [
        {
          "output_type": "stream",
          "text": [
            "0.24609375000000025\n"
          ],
          "name": "stdout"
        },
        {
          "output_type": "execute_result",
          "data": {
            "text/plain": [
              "0.301989888"
            ]
          },
          "metadata": {
            "tags": []
          },
          "execution_count": 38
        }
      ]
    },
    {
      "cell_type": "markdown",
      "metadata": {
        "id": "hktlTajbFlhv",
        "colab_type": "text"
      },
      "source": [
        "## THE GEOMETRIC AND EXPONENTIAL DISTRIBUTIONS"
      ]
    },
    {
      "cell_type": "code",
      "metadata": {
        "id": "EPA8oh9RFn22",
        "colab_type": "code",
        "colab": {
          "base_uri": "https://localhost:8080/",
          "height": 638
        },
        "outputId": "5059ebc6-a3a5-427e-bfcd-ab9590260328"
      },
      "source": [
        "#Let's use the geom functions to model the number of trials it takes to get a success (heads) when flipping a fair coin:\n",
        "random.seed(12)\n",
        "\n",
        "flips_till_heads = stats.geom.rvs(size=10000,  # Generate geometric data\n",
        "                                  p=0.5)       # With success prob 0.5\n",
        "\n",
        "# Print table of counts\n",
        "print( pd.crosstab(index=\"counts\", columns= flips_till_heads))\n",
        "\n",
        "# Plot histogram\n",
        "pd.DataFrame(flips_till_heads).hist(range=(-0.5,max(flips_till_heads)+0.5)\n",
        "                                    , bins=max(flips_till_heads)+1)"
      ],
      "execution_count": 39,
      "outputs": [
        {
          "output_type": "stream",
          "text": [
            "col_0     1     2     3    4    5    6   7   8   9   10  11  12  14  16  20\n",
            "row_0                                                                      \n",
            "counts  5029  2458  1279  615  329  144  71  35  15  10   9   2   2   1   1\n"
          ],
          "name": "stdout"
        },
        {
          "output_type": "execute_result",
          "data": {
            "text/plain": [
              "array([[<matplotlib.axes._subplots.AxesSubplot object at 0x7f5c825dfa90>]],\n",
              "      dtype=object)"
            ]
          },
          "metadata": {
            "tags": []
          },
          "execution_count": 39
        },
        {
          "output_type": "display_data",
          "data": {
            "image/png": "[encoded data removed]",
            "text/plain": [
              "<Figure size 648x648 with 1 Axes>"
            ]
          },
          "metadata": {
            "tags": []
          }
        }
      ]
    },
    {
      "cell_type": "code",
      "metadata": {
        "id": "rJzRL8t4F9PF",
        "colab_type": "code",
        "colab": {
          "base_uri": "https://localhost:8080/",
          "height": 34
        },
        "outputId": "b257f1bb-3649-4d14-c0c3-a091a7a7f5c2"
      },
      "source": [
        "#Let's use cdf() to check the probability of needing 6 flips or more to get a success:\n",
        "first_five = stats.geom.cdf(k=5,   # Prob of success in first 5 flips\n",
        "                           p=0.5)\n",
        "\n",
        "1 - first_five"
      ],
      "execution_count": 40,
      "outputs": [
        {
          "output_type": "execute_result",
          "data": {
            "text/plain": [
              "0.03125"
            ]
          },
          "metadata": {
            "tags": []
          },
          "execution_count": 40
        }
      ]
    },
    {
      "cell_type": "code",
      "metadata": {
        "id": "_6huJ1xeGBqO",
        "colab_type": "code",
        "colab": {
          "base_uri": "https://localhost:8080/",
          "height": 34
        },
        "outputId": "9fdf82d6-df15-4cf8-fe20-fc0dc9823c10"
      },
      "source": [
        "#Use pmf() to check the probability of seeing a specific number of flips before a successes:\n",
        "\n",
        "stats.geom.pmf(k=2,   # Prob of needing exactly 2 flips to get first success\n",
        "              p=0.5)"
      ],
      "execution_count": 41,
      "outputs": [
        {
          "output_type": "execute_result",
          "data": {
            "text/plain": [
              "0.25"
            ]
          },
          "metadata": {
            "tags": []
          },
          "execution_count": 41
        }
      ]
    },
    {
      "cell_type": "code",
      "metadata": {
        "id": "ukbi1zm5GQHv",
        "colab_type": "code",
        "colab": {
          "base_uri": "https://localhost:8080/",
          "height": 34
        },
        "outputId": "79c48778-d911-4a96-a5b6-6af7002d2646"
      },
      "source": [
        "# Get the probability of waiting more than 1 time unit before a success\n",
        "\n",
        "prob_1 = stats.expon.cdf(x=1,        \n",
        "                         scale=1)  # Arrival rate\n",
        "\n",
        "1 - prob_1"
      ],
      "execution_count": 43,
      "outputs": [
        {
          "output_type": "execute_result",
          "data": {
            "text/plain": [
              "0.36787944117144233"
            ]
          },
          "metadata": {
            "tags": []
          },
          "execution_count": 43
        }
      ]
    },
    {
      "cell_type": "code",
      "metadata": {
        "id": "Ie7Bna3EGJMY",
        "colab_type": "code",
        "colab": {
          "base_uri": "https://localhost:8080/",
          "height": 558
        },
        "outputId": "2bb49656-98df-4e93-da97-0bfcee7d94c9"
      },
      "source": [
        "#Let's plot this exponential distribution to get an idea of its shape:\n",
        "plt.fill_between(x=np.arange(0,1,0.01), \n",
        "                 y1= stats.expon.pdf(np.arange(0,1,0.01)) ,\n",
        "                 facecolor='blue',\n",
        "                 alpha=0.35)\n",
        "\n",
        "plt.fill_between(x=np.arange(1,7,0.01), \n",
        "                 y1= stats.expon.pdf(np.arange(1,7,0.01)) ,\n",
        "                 facecolor='red',\n",
        "                 alpha=0.35)\n",
        "\n",
        "\n",
        "plt.text(x=0.3, y=0.2, s= round(prob_1,3))\n",
        "plt.text(x=1.5, y=0.08, s= round(1 - prob_1,3))"
      ],
      "execution_count": 44,
      "outputs": [
        {
          "output_type": "execute_result",
          "data": {
            "text/plain": [
              "Text(1.5, 0.08, '0.368')"
            ]
          },
          "metadata": {
            "tags": []
          },
          "execution_count": 44
        },
        {
          "output_type": "display_data",
          "data": {
            "image/png": "[encoded data removed]",
            "text/plain": [
              "<Figure size 648x648 with 1 Axes>"
            ]
          },
          "metadata": {
            "tags": []
          }
        }
      ]
    },
    {
      "cell_type": "markdown",
      "metadata": {
        "id": "uZTL6NR8G5gF",
        "colab_type": "text"
      },
      "source": [
        "## POISSON DISTRIBUTIONS"
      ]
    },
    {
      "cell_type": "code",
      "metadata": {
        "id": "yZWxVmLmG5Jj",
        "colab_type": "code",
        "colab": {
          "base_uri": "https://localhost:8080/",
          "height": 1259
        },
        "outputId": "587c47a2-1518-47a7-e983-cf195e975e91"
      },
      "source": [
        "random.seed(12)\n",
        "arrival_rate_1 = stats.poisson.rvs(size=10000,  # Generate Poisson data\n",
        "                                   mu=1 )       # Average arrival time 1\n",
        "# Print table of counts\n",
        "print( pd.crosstab(index=\"counts\", columns= arrival_rate_1))\n",
        "# Plot histogram\n",
        "pd.DataFrame(arrival_rate_1).hist(range=(-0.5,max(arrival_rate_1)+0.5)\n",
        "                                    , bins=max(arrival_rate_1)+1)\n",
        "\n",
        "\n",
        "random.seed(12)\n",
        "arrival_rate_10 = stats.poisson.rvs(size=10000,  # Generate Poisson data\n",
        "                                   mu=10 )       # Average arrival time 10\n",
        "# Print table of counts\n",
        "print( pd.crosstab(index=\"counts\", columns= arrival_rate_10))\n",
        "# Plot histogram\n",
        "pd.DataFrame(arrival_rate_10).hist(range=(-0.5,max(arrival_rate_10)+0.5)\n",
        "                                    , bins=max(arrival_rate_10)+1)"
      ],
      "execution_count": 45,
      "outputs": [
        {
          "output_type": "stream",
          "text": [
            "col_0      0     1     2    3    4   5  6  7\n",
            "row_0                                       \n",
            "counts  3736  3650  1850  573  154  30  5  2\n",
            "col_0   0   1   2   3    4    5    6    7   ...   16   17  18  19  20  21  22  23\n",
            "row_0                                       ...                                  \n",
            "counts   3   2  22  59  211  366  671  917  ...  210  132  73  36  13  10   5   3\n",
            "\n",
            "[1 rows x 24 columns]\n"
          ],
          "name": "stdout"
        },
        {
          "output_type": "execute_result",
          "data": {
            "text/plain": [
              "array([[<matplotlib.axes._subplots.AxesSubplot object at 0x7f5c8205b828>]],\n",
              "      dtype=object)"
            ]
          },
          "metadata": {
            "tags": []
          },
          "execution_count": 45
        },
        {
          "output_type": "display_data",
          "data": {
            "image/png": "[encoded data removed]",
            "text/plain": [
              "<Figure size 648x648 with 1 Axes>"
            ]
          },
          "metadata": {
            "tags": []
          }
        },
        {
          "output_type": "display_data",
          "data": {
            "image/png": "[encoded data removed]",
            "text/plain": [
              "<Figure size 648x648 with 1 Axes>"
            ]
          },
          "metadata": {
            "tags": []
          }
        }
      ]
    },
    {
      "cell_type": "code",
      "metadata": {
        "id": "xp-XZyn7HExz",
        "colab_type": "code",
        "colab": {
          "base_uri": "https://localhost:8080/",
          "height": 34
        },
        "outputId": "3a5769a7-7aaf-4d4a-c741-5ac748fbfea6"
      },
      "source": [
        "stats.poisson.cdf(k=5,     # Check the probability of 5 arrivals or less\n",
        "                  mu=10)   # With arrival rate 10\n"
      ],
      "execution_count": 46,
      "outputs": [
        {
          "output_type": "execute_result",
          "data": {
            "text/plain": [
              "0.06708596287903189"
            ]
          },
          "metadata": {
            "tags": []
          },
          "execution_count": 46
        }
      ]
    },
    {
      "cell_type": "code",
      "metadata": {
        "id": "U5duC1PQHITv",
        "colab_type": "code",
        "colab": {
          "base_uri": "https://localhost:8080/",
          "height": 34
        },
        "outputId": "16b41acc-c58c-447c-ca05-66bfafce202f"
      },
      "source": [
        "stats.poisson.pmf(k=10,     # Check the prob f exactly 10 arrivals\n",
        "                  mu=10)    # With arrival rate 10"
      ],
      "execution_count": 47,
      "outputs": [
        {
          "output_type": "execute_result",
          "data": {
            "text/plain": [
              "0.12511003572113372"
            ]
          },
          "metadata": {
            "tags": []
          },
          "execution_count": 47
        }
      ]
    }
  ]
}